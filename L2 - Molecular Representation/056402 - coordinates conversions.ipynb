{
 "cells": [
  {
   "cell_type": "markdown",
   "metadata": {},
   "source": [
    "# ARC Tools\n",
    "## Coordinates conversions\n",
    "\n",
    "This notebook myst be run under the ARC conda environment (`arc_env`), see https://github.com/ReactionMechanismGenerator/ARC\n",
    "\n",
    "Below, `xyz` and `zmat` refer to Cartesian and internal coordinates, respectively"
   ]
  },
  {
   "cell_type": "code",
   "execution_count": null,
   "metadata": {},
   "outputs": [],
   "source": [
    "from arc.species.converter import (zmat_to_xyz,\n",
    "                                   xyz_to_str,\n",
    "                                   zmat_from_xyz,\n",
    "                                   zmat_to_str,\n",
    "                                   xyz_to_xyz_file_format,\n",
    "                                   xyz_file_format_to_xyz,\n",
    "                                   check_xyz_dict,\n",
    "                                   check_zmat_dict,\n",
    "                                   zmat_to_str,\n",
    "                                   str_to_zmat)\n",
    "from arc.species.species import ARCSpecies\n",
    "from arc.species.zmat import consolidate_zmat\n",
    "from arc.plotter import draw_structure\n",
    "import pprint"
   ]
  },
  {
   "cell_type": "markdown",
   "metadata": {},
   "source": [
    "##### xyz str to ARC's xyz dict:\n",
    "Note: `xyz_str` could also be a path to a file from which the coordinates will be parsed"
   ]
  },
  {
   "cell_type": "code",
   "execution_count": null,
   "metadata": {},
   "outputs": [],
   "source": [
    "xyz_str = \"\"\"\n",
    "O       1.53830201    0.86423425    0.07482439\n",
    "C       0.94923576   -0.20847619   -0.03881977\n",
    "C      -0.56154542   -0.31516675   -0.05011465\n",
    "O      -1.18981166    0.93489731    0.17603211\n",
    "H       1.49712659   -1.15833718   -0.15458647\n",
    "H      -0.87737433   -0.70077243   -1.02287491\n",
    "H      -0.87053611   -1.01071746    0.73427128\n",
    "H      -0.48610273    1.61361259    0.11915705\n",
    "\"\"\"\n",
    "\n",
    "xyz_dict = check_xyz_dict(xyz_str)\n",
    "\n",
    "pprint.pprint(xyz_dict)\n",
    "\n",
    "draw_structure(xyz=xyz_str)"
   ]
  },
  {
   "cell_type": "markdown",
   "metadata": {},
   "source": [
    "##### ARC's xyz dict to xyz str:"
   ]
  },
  {
   "cell_type": "code",
   "execution_count": null,
   "metadata": {},
   "outputs": [],
   "source": [
    "xyz_dict = {'symbols': ('C', 'O', 'O', 'N', 'C', 'H', 'H', 'H', 'H', 'H'),\n",
    "            'isotopes': (32, 16, 16, 14, 12, 1, 1, 1, 1, 1),\n",
    "            'coords': ((-0.06618943, -0.12360663, -0.07631983),\n",
    "                       (-0.79539707, 0.86755487, 1.02675668),\n",
    "                       (-0.68919931, 0.25421823, -1.34830853),\n",
    "                       (0.01546439, -1.54297548, 0.44580391),\n",
    "                       (1.59721519, 0.47861334, 0.00711),\n",
    "                       (1.94428095, 0.40772394, 1.03719428),\n",
    "                       (2.20318015, -0.14715186, -0.64755729),\n",
    "                       (1.59252246, 1.5117895, -0.33908352),\n",
    "                       (-0.8785689, -2.02453514, 0.38494433),\n",
    "                       (-1.34135876, 1.49608206, 0.53295071))}\n",
    "\n",
    "xyz_str = xyz_to_str(check_xyz_dict(xyz_dict))\n",
    "\n",
    "print(xyz_str)\n",
    "\n",
    "draw_structure(xyz=xyz_dict)"
   ]
  },
  {
   "cell_type": "markdown",
   "metadata": {},
   "source": [
    "##### xyz (dict or str) to XYZ file format:"
   ]
  },
  {
   "cell_type": "code",
   "execution_count": null,
   "metadata": {},
   "outputs": [],
   "source": [
    "xyz = \"\"\"\n",
    "O       1.53830201    0.86423425    0.07482439\n",
    "C       0.94923576   -0.20847619   -0.03881977\n",
    "C      -0.56154542   -0.31516675   -0.05011465\n",
    "O      -1.18981166    0.93489731    0.17603211\n",
    "H       1.49712659   -1.15833718   -0.15458647\n",
    "H      -0.87737433   -0.70077243   -1.02287491\n",
    "H      -0.87053611   -1.01071746    0.73427128\n",
    "H      -0.48610273    1.61361259    0.11915705\n",
    "\"\"\"\n",
    "\n",
    "xyz_file = xyz_to_xyz_file_format(check_xyz_dict(xyz))\n",
    "\n",
    "print(xyz_file)"
   ]
  },
  {
   "cell_type": "markdown",
   "metadata": {},
   "source": [
    "##### XYZ file format to ARC's xyz dict:"
   ]
  },
  {
   "cell_type": "code",
   "execution_count": null,
   "metadata": {},
   "outputs": [],
   "source": [
    "xyz_file = \"\"\"\n",
    "7\n",
    "\n",
    "S       1.02558264   -0.04344404   -0.07343859\n",
    "O      -0.25448248    1.10710477    0.18359696\n",
    "N      -1.30762173    0.15796567   -0.10489290\n",
    "C      -0.49011438   -1.03704380    0.15365747\n",
    "H      -0.64869950   -1.85796321   -0.54773423\n",
    "H      -0.60359153   -1.37304859    1.18613964\n",
    "H      -1.43009127    0.23517346   -1.11797908\n",
    "\"\"\"\n",
    "\n",
    "xyz_dict = xyz_file_format_to_xyz(xyz_file)\n",
    "\n",
    "pprint.pprint(xyz_dict)"
   ]
  },
  {
   "cell_type": "markdown",
   "metadata": {},
   "source": [
    "##### xyz to zmat (non-consolidated):"
   ]
  },
  {
   "cell_type": "code",
   "execution_count": null,
   "metadata": {
    "scrolled": true
   },
   "outputs": [],
   "source": [
    "xyz = \"\"\"\n",
    "C       0.00000000    0.00000000    0.00000000\n",
    "H       0.63003260    0.63003260    0.63003260\n",
    "H      -0.63003260   -0.63003260    0.63003260\n",
    "H      -0.63003260    0.63003260   -0.63003260\n",
    "H       0.63003260   -0.63003260   -0.63003260\n",
    "\"\"\"\n",
    "\n",
    "zmat = zmat_from_xyz(xyz, mol=ARCSpecies(label='to_zmat', xyz=xyz).mol, consolidate=False)\n",
    "\n",
    "pprint.pprint(zmat)"
   ]
  },
  {
   "cell_type": "markdown",
   "metadata": {},
   "source": [
    "##### xyz to zmat (consolidated):"
   ]
  },
  {
   "cell_type": "code",
   "execution_count": null,
   "metadata": {
    "scrolled": false
   },
   "outputs": [],
   "source": [
    "xyz = \"\"\"\n",
    "C       0.00000000    0.00000000    0.00000000\n",
    "H       0.63003260    0.63003260    0.63003260\n",
    "H      -0.63003260   -0.63003260    0.63003260\n",
    "H      -0.63003260    0.63003260   -0.63003260\n",
    "H       0.63003260   -0.63003260   -0.63003260\n",
    "\"\"\"\n",
    "\n",
    "zmat = zmat_from_xyz(xyz, mol=ARCSpecies(label='to_zmat', xyz=xyz).mol, consolidate=True)\n",
    "\n",
    "pprint.pprint(zmat)"
   ]
  },
  {
   "cell_type": "markdown",
   "metadata": {},
   "source": [
    "##### zmat to xyz:"
   ]
  },
  {
   "cell_type": "code",
   "execution_count": null,
   "metadata": {},
   "outputs": [],
   "source": [
    "\n",
    "zmat = {'symbols': ('C', 'C', 'H', 'H', 'H', 'H', 'H', 'H', 'X', 'O', 'O', 'C', 'C', 'H', 'H', 'H', 'H', 'H'),\n",
    "        'coords': ((None, None, None), ('R_1_0', None, None), ('R_2_0', 'A_2_0_1', None),\n",
    "                   ('R_3_0', 'A_3_0_1', 'D_3_0_1_2'), ('R_4_1', 'A_4_1_0', 'D_4_1_0_3'),\n",
    "                   ('R_5_1', 'A_5_1_0', 'D_5_1_0_4'), ('R_6_1', 'A_6_1_0', 'D_6_1_0_5'),\n",
    "                   ('R_7_0', 'A_7_0_1', 'D_7_0_1_6'), ('RX_8_7', 'AX_8_7_0', 'DX_8_7_0_1'),\n",
    "                   ('R_9_7', 'A_9_7_8', 'D_9_7_8_0'), ('R_10_9', 'A_10_9_8', 'D_10_9_7_0'),\n",
    "                   ('R_11_10', 'A_11_10_9', 'D_11_10_9_8'), ('R_12_11', 'A_12_11_10', 'D_12_11_10_9'),\n",
    "                   ('R_13_12', 'A_13_12_11', 'D_13_12_11_10'), ('R_14_12', 'A_14_12_11', 'D_14_12_11_13'),\n",
    "                   ('R_15_12', 'A_15_12_11', 'D_15_12_11_14'), ('R_16_11', 'A_16_11_12', 'D_16_11_12_15'),\n",
    "                   ('R_17_11', 'A_17_11_12', 'D_17_11_12_16')),\n",
    "        'vars': {'R_1_0': 1.5120487296562577, 'R_2_0': 1.0940775789443724, 'A_2_0_1': 110.56801921096591,\n",
    "                 'R_3_0': 1.0940817193677925, 'A_3_0_1': 110.56754686774481, 'D_3_0_1_2': 119.99910067703652,\n",
    "                 'R_4_1': 1.0940725668318991, 'A_4_1_0': 110.56890700195424, 'D_4_1_0_3': 59.99971758419434,\n",
    "                 'R_5_1': 1.0940840619688397, 'A_5_1_0': 110.56790845138725, 'D_5_1_0_4': 239.99905123159166,\n",
    "                 'R_6_1': 1.0940817193677925, 'A_6_1_0': 110.56754686774481, 'D_6_1_0_5': 240.00122783407815,\n",
    "                 'R_7_0': 1.3128870801982788, 'A_7_0_1': 110.56890700195424, 'D_7_0_1_6': 300.00028241580566,\n",
    "                 'RX_8_7': 1.0, 'AX_8_7_0': 90.0, 'DX_8_7_0_1': 0, 'R_9_7': 1.1689469645782498, 'A_9_7_8': 270,\n",
    "                 'D_9_7_8_0': 0, 'R_10_9': 1.4559254886404387, 'A_10_9_8': 96.30065819269021, 'D_10_9_7_0': 320,\n",
    "                 'R_11_10': 1.4265728986680748, 'A_11_10_9': 105.58023544826183, 'D_11_10_9_8': 242.3527063196313,\n",
    "                 'R_12_11': 1.5147479951212197, 'A_12_11_10': 108.63387152978416, 'D_12_11_10_9': 179.9922243050821,\n",
    "                 'R_13_12': 1.0950205915944824, 'A_13_12_11': 110.62463321031589, 'D_13_12_11_10': 59.1268942923763,\n",
    "                 'R_14_12': 1.093567969297245, 'A_14_12_11': 110.91425998596507, 'D_14_12_11_13': 120.87266977773987,\n",
    "                 'R_15_12': 1.0950091062890002, 'A_15_12_11': 110.62270362433773, 'D_15_12_11_14': 120.87301274044218,\n",
    "                 'R_16_11': 1.0951433842986755, 'A_16_11_12': 110.20822115119915, 'D_16_11_12_15': 181.16392677464265,\n",
    "                 'R_17_11': 1.0951410439636102, 'A_17_11_12': 110.20143800025897, 'D_17_11_12_16': 239.4199964284852},\n",
    "        'map': {0: 0, 1: 1, 2: 3, 3: 4, 4: 5, 5: 6, 6: 7, 7: 2, 8: 'X8', 9: 12, 10: 11, 11: 10, 12: 9, 13: 13,\n",
    "                14: 14, 15: 15, 16: 16, 17: 17}}\n",
    "\n",
    "xyz_dict = zmat_to_xyz(check_zmat_dict(zmat))\n",
    "\n",
    "#pprint.pprint(xyz_dict)\n",
    "\n",
    "\n",
    "draw_structure(xyz=xyz_dict)"
   ]
  },
  {
   "cell_type": "markdown",
   "metadata": {},
   "source": [
    "##### consolidated a zmat:"
   ]
  },
  {
   "cell_type": "code",
   "execution_count": null,
   "metadata": {},
   "outputs": [],
   "source": [
    "zmat = {'symbols': ('C', 'H', 'H', 'H', 'H'),\n",
    "                      'coords': ((None, None, None),\n",
    "                                 ('R_0_1', None, None),\n",
    "                                 ('R_0_2', 'A_0_1_2', None),\n",
    "                                 ('R_0_3', 'A_0_1_3', 'D_0_1_2_3'),\n",
    "                                 ('R_0_4', 'A_0_1_4', 'D_0_1_2_4')),\n",
    "                      'vars': {'A_0_1_2': 35.26438764560717,\n",
    "                               'A_0_1_3': 35.26438764560717,\n",
    "                               'A_0_1_4': 35.26438764560717,\n",
    "                               'D_0_1_2_3': 324.73561031724535,\n",
    "                               'D_0_1_2_4': 35.26438968275465,\n",
    "                               'R_0_1': 1.0912484581271156,\n",
    "                               'R_0_2': 1.0912484581271156,\n",
    "                               'R_0_3': 1.0912484581271156,\n",
    "                               'R_0_4': 1.0912484581271156},\n",
    "                      'map': {0: 0, 1: 1, 2: 2, 3: 3, 4: 4}}\n",
    "\n",
    "zmat = consolidate_zmat(zmat)\n",
    "\n",
    "pprint.pprint(zmat)"
   ]
  },
  {
   "cell_type": "markdown",
   "metadata": {},
   "source": [
    "##### zmat dict to ESS-specific zmat string:"
   ]
  },
  {
   "cell_type": "code",
   "execution_count": null,
   "metadata": {},
   "outputs": [],
   "source": [
    "zmat = {'symbols': ('C', 'C', 'C', 'C', 'X', 'C', 'C', 'C', 'H', 'H', 'H', 'H', 'H', 'H', 'H', 'H'),\n",
    "        'coords': ((None, None, None), ('R_1|7_0|6', None, None), ('R_2|6_1|5', 'A_2|7_1|6_0|5', None),\n",
    "                   ('R_3|5_2|3', 'A_3|6_2|5_1|3', 'D_3|7_2|6_1|5_0|3'),\n",
    "                   ('RX_4_3', 'AX_4|5_3|3_2|4', 'DX_4_3_2_1'),\n",
    "                   ('R_3|5_2|3', 'AX_4|5_3|3_2|4', 'DX_5_3_4_2'),\n",
    "                   ('R_2|6_1|5', 'A_3|6_2|5_1|3', 'D_6_5_3_1'),\n",
    "                   ('R_1|7_0|6', 'A_2|7_1|6_0|5', 'D_3|7_2|6_1|5_0|3'),\n",
    "                   ('R_8|11|12|15_0|2|5|7', 'A_8|15_0|7_1|6', 'D_8_0_1_7'),\n",
    "                   ('R_9|14_0|7', 'A_9|14_0|7_1|6', 'D_9_0_1_8'),\n",
    "                   ('R_10|13_1|6', 'A_10|13_1|6_0|7', 'D_10|14_1|7_0|6_9|13'),\n",
    "                   ('R_8|11|12|15_0|2|5|7', 'A_11|12_2|5_1|6', 'D_11|12_2|5_1|6_0|7'),\n",
    "                   ('R_8|11|12|15_0|2|5|7', 'A_11|12_2|5_1|6', 'D_11|12_2|5_1|6_0|7'),\n",
    "                   ('R_10|13_1|6', 'A_10|13_1|6_0|7', 'D_13_6_7_12'),\n",
    "                   ('R_9|14_0|7', 'A_9|14_0|7_1|6', 'D_10|14_1|7_0|6_9|13'),\n",
    "                   ('R_8|11|12|15_0|2|5|7', 'A_8|15_0|7_1|6', 'D_15_7_6_14')),\n",
    "        'vars': {'RX_4_3': 1.0, 'DX_4_3_2_1': 219.28799421779138, 'DX_5_3_4_2': 180.0,\n",
    "                 'D_6_5_3_1': 78.69721089515058, 'D_8_0_1_7': 303.5079357762497,\n",
    "                 'D_9_0_1_8': 179.99747417664557, 'D_13_6_7_12': 180.0829054665434,\n",
    "                 'D_15_7_6_14': 180.00215607227028, 'R_1|7_0|6': 1.3381887062084776,\n",
    "                 'R_2|6_1|5': 1.4407904325150618, 'R_3|5_2|3': 1.3006576158575789,\n",
    "                 'R_8|11|12|15_0|2|5|7': 1.0853633184695155, 'R_9|14_0|7': 1.0856141082269883,\n",
    "                 'R_10|13_1|6': 1.0886528591087101, 'A_2|7_1|6_0|5': 123.19585370239227,\n",
    "                 'A_3|6_2|5_1|3': 121.52258708303276, 'AX_4|5_3|3_2|4': 90.0,\n",
    "                 'A_8|15_0|7_1|6': 122.24044548570495, 'A_9|14_0|7_1|6': 120.41807743308047,\n",
    "                 'A_10|13_1|6_0|7': 119.30818147722846, 'A_11|12_2|5_1|6': 119.14551997750254,\n",
    "                 'D_3|7_2|6_1|5_0|3': 180.11338840380205, 'D_10|14_1|7_0|6_9|13': 0.011830716823514614,\n",
    "                 'D_11|12_2|5_1|6_0|7': 359.8632362707074},\n",
    "        'map': {0: 0, 1: 1, 2: 2, 3: 3, 4: 'X15', 5: 4, 6: 5, 7: 6, 8: 7, 9: 8, 10: 9, 11: 10, 12: 11,\n",
    "                13: 12, 14: 13, 15: 14}}\n",
    "\n",
    "# allowed formats are: 'gaussian', 'qchem', 'molpro', 'orca', or 'psi4'\n",
    "zmat_str = zmat_to_str(zmat, zmat_format='gaussian', consolidate=True)\n",
    "\n",
    "print(zmat_str)"
   ]
  },
  {
   "cell_type": "code",
   "execution_count": null,
   "metadata": {},
   "outputs": [],
   "source": []
  }
 ],
 "metadata": {
  "kernelspec": {
   "display_name": "Python 3 (ipykernel)",
   "language": "python",
   "name": "python3"
  },
  "language_info": {
   "codemirror_mode": {
    "name": "ipython",
    "version": 3
   },
   "file_extension": ".py",
   "mimetype": "text/x-python",
   "name": "python",
   "nbconvert_exporter": "python",
   "pygments_lexer": "ipython3",
   "version": "3.7.16"
  },
  "pycharm": {
   "stem_cell": {
    "cell_type": "raw",
    "metadata": {
     "collapsed": false
    },
    "source": []
   }
  }
 },
 "nbformat": 4,
 "nbformat_minor": 2
}
